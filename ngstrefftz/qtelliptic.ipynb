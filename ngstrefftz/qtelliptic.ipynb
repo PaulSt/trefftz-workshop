{
 "cells": [
  {
   "cell_type": "markdown",
   "id": "1ffc608a-0a36-49c0-9a86-646e3b82ca20",
   "metadata": {},
   "source": [
    "# quasi-Treffz DG for elliptic PDEs\n",
    "$$\n",
    "\\newcommand{\\bbeta}{\\boldsymbol{\\beta}}\n",
    "\\newcommand{\\bK}{\\boldsymbol{K}}\n",
    "\\newcommand{\\bx}{\\boldsymbol{x}}\n",
    "\\newcommand{\\N}[1]{\\left\\|#1\\right\\|}\n",
    "$$\n",
    "Consider the following diffusion-advection-reaction BVP\n",
    "$$\n",
    "\\begin{cases}\n",
    "\\mathcal{L}u:=\\text{div}(-\\bK \\nabla u +\\bbeta u) +\\sigma u = f   &\\text{in $\\Omega$,}\\\\\n",
    "u=g_{D} &\\text{on $ \\Gamma_{D}$,}\\\\\n",
    "- \\bK \\nabla u  \\cdot \\mathbf{n} =g_{N}  &\\text{on $ \\Gamma_{N}$.}\n",
    "\\end{cases}\n",
    "$$\n",
    "with $ \\bK=\\bK^T$ diffusion matrix, $\\bbeta$ advection vector and $\\sigma$ reaction scalar.\n",
    "\n",
    "We want to solve this second-order elliptic boundary value problem using a quasi-Trefftz DG method."
   ]
  },
  {
   "cell_type": "code",
   "execution_count": null,
   "id": "1fa04d60-934b-4bbd-b2f5-52ca7fba48c6",
   "metadata": {},
   "outputs": [],
   "source": [
    "from ngsolve import *\n",
    "from ngstrefftz import *\n",
    "from netgen.occ import *"
   ]
  },
  {
   "cell_type": "markdown",
   "id": "71d73d55-196f-4796-87ab-a94b6d3f550b",
   "metadata": {},
   "source": [
    "### Constructing a quasi-Trefftz space"
   ]
  },
  {
   "cell_type": "markdown",
   "id": "39e67ca9-151b-489b-b588-60a52a081146",
   "metadata": {},
   "source": [
    "$$\\newcommand{\\IN}{\\mathbb{N}}\\newcommand{\\IR}{\\mathbb{R}}\n",
    "\\newcommand{\\IP}{\\mathbb{P}}\\newcommand{\\IT}{\\mathbb{T}}\n",
    "\\newcommand{\\QT}{{\\mathbb{Q\\!T}}}\n",
    "\\newcommand{\\calM}{{\\mathcal M}}\n",
    "\\newcommand{\\bi}{{\\boldsymbol i}}\n",
    "\\newcommand{\\bx}{{\\boldsymbol x}}$$\n",
    "A polynomial quasi-Trefftz space for the diffusion-advection-reaction equation is given by the polynomials that locally belongs to\n",
    "$$\n",
    "\\QT^p_f(E):=\\big\\{ v\\in \\IP^p(E) \\mid D^{\\bi} \\mathcal{L} v (\\bx^E)=D^{\\bi} f (\\bx^E)\\quad \\forall \\bi\\in \\IN^d_0,\\ |\\bi|\\leq p-m\\big\\}\n",
    "\\qquad p\\in \\mathbb{N}.\n",
    "$$\n",
    "\n",
    "We can construct it in NGSolve like so:"
   ]
  },
  {
   "cell_type": "code",
   "execution_count": null,
   "id": "e4dacb2d-3787-4299-9180-87a120a0ee46",
   "metadata": {},
   "outputs": [],
   "source": [
    "h = 0.03; \n",
    "order = 3;\n",
    "mesh = Mesh(unit_square.GenerateMesh(maxh=h))\n",
    "with TaskManager():\n",
    "    fes = trefftzfespace(mesh,order=order,eq=\"qtelliptic\")"
   ]
  },
  {
   "cell_type": "markdown",
   "id": "54592f60-a42b-45f1-b4be-0a423a06f250",
   "metadata": {},
   "source": [
    "Using the eq key word one needs to tell `trefftzfespace` the operator for which to construct quasi-Trefftz functions."
   ]
  },
  {
   "cell_type": "markdown",
   "id": "cf42df1e-83af-4b30-9288-e632262e0359",
   "metadata": {},
   "source": [
    "We will consider the following manufactured example"
   ]
  },
  {
   "cell_type": "code",
   "execution_count": null,
   "id": "21be3fa3-2e7d-4d0c-be17-6d48fea9b0a4",
   "metadata": {},
   "outputs": [],
   "source": [
    "exact = sin(pi*(x+y))\n",
    "K = CF((1+x+y,0,0,1+x+y),dims=(2,2))\n",
    "beta = CF((1,0))\n",
    "sigma = 3/(1+x+y)\n",
    "Dbndc = exact\n",
    "rhs = -sum( (K*CF((exact.Diff(x),exact.Diff(y))))[i].Diff(var) for i,var in enumerate([x,y])) + beta*CF((exact.Diff(x),exact.Diff(y))) + sigma*exact"
   ]
  },
  {
   "cell_type": "markdown",
   "id": "0e26cef3-2c9c-4924-b0b3-45d59eb3cfd4",
   "metadata": {},
   "source": [
    "To set the coefficients for the construction of the quasi-Trefftz basis functions use "
   ]
  },
  {
   "cell_type": "code",
   "execution_count": null,
   "id": "8bb5ff3b-4320-4374-aff9-eeaeb55c30e8",
   "metadata": {},
   "outputs": [],
   "source": [
    "with TaskManager():\n",
    "    fes.SetCoeff(K,beta,sigma)"
   ]
  },
  {
   "cell_type": "markdown",
   "id": "c9cc70f2-fbc9-4b39-a387-b9a86d5b4c1e",
   "metadata": {},
   "source": [
    "To set the right-hand side for the construction of the quasi-Trefftz particular approximate solution use "
   ]
  },
  {
   "cell_type": "code",
   "execution_count": null,
   "id": "fc5e2734-1c26-433f-89fc-e02808eb83e0",
   "metadata": {},
   "outputs": [],
   "source": [
    "with TaskManager():\n",
    "    uf = fes.GetEWSolution(rhs)"
   ]
  },
  {
   "cell_type": "markdown",
   "id": "33507b04-023b-4b33-9d1a-7d826df4d1b4",
   "metadata": {},
   "source": [
    "$$\n",
    "\\newcommand{\\calT}{\\mathcal{T}}\n",
    "\\newcommand{\\calF}{\\mathcal{F}}\n",
    "\\newcommand{\\calA}{\\mathcal{A}}\n",
    "\\newcommand{\\jmp}[1]{[\\![#1]\\!]}    \n",
    "\\newcommand{\\mvl}[1]{\\{\\!\\!\\{#1\\}\\!\\!\\}}\n",
    "\\newcommand{\\bbeta}{\\boldsymbol{\\beta}}\n",
    "\\newcommand{\\bK}{\\boldsymbol{K}}\n",
    "\\newcommand{\\bx}{\\boldsymbol{x}}\n",
    "\\newcommand{\\bn}{\\mathbf{x}}\n",
    "\\newcommand{\\N}[1]{\\left\\|#1\\right\\|}\n",
    "$$ \n",
    "A possbile DG method is\n",
    "$$\n",
    "\\text{Find } u_h \\in V_h \\text{ such that }\n",
    "\\calA_h^\\mathrm{dar}(u_h,v_h)=L_h(v_h) \\quad \\forall v_h \\in V_h,\n",
    "$$\n",
    "with the DG bilinear form \n",
    "$$\\begin{align}\n",
    "\\calA_h^\\mathrm{dar}(u_h,v_h):=&\\sum_{E\\in \\calT_h}\t\\int_E \\Big(\\Big(\\bK\\nabla u_h -\\bbeta u_h\\Big) \\cdot \\nabla  v_h+\\sigma u_h  v_h\\Big)\\\\&+\n",
    "\\sum_{F\\in\\calF_h^{\\mathrm I}\\cup \\calF_h^{\\mathrm D}}\n",
    "\\int_F \\Big(-\\mvl{\\bK   \\nabla u_h } \\cdot \\jmp{v_h}- \\jmp{u_h} \\cdot \\mvl{\\bK   \\nabla v_h}  \n",
    "+ \\gamma\\frac{K_F}{h_F} \\jmp{u_h}\\cdot \\jmp{v_h}\\Big)\\\\ \n",
    "&+\n",
    "\\int_{\\mathcal{F}_h^{\\mathrm I}} \\Big( \\mvl{\\bbeta  w} \\cdot \\jmp{v_h}+\\frac12|\\bbeta\\cdot \\bn_F|\\jmp{w}\\cdot\\jmp{v_h}\\Big)+\n",
    "\\int_{\\mathcal{F}_h^+} ( \\bbeta  w) \\cdot \\bn v_h,\n",
    "\\end{align} $$\n",
    "and the linear form\n",
    "$$\n",
    "L_h(v_h):=\\sum_{E\\in\\calT_h}\\int_E  f v_h - \n",
    "\\int_{\\mathcal{F}_h^\\mathrm{N}}  g_{\\mathrm N} v_h +\n",
    "\\int_{\\mathcal{F}_h^{\\mathrm D}} g_{\\mathrm D}  \\Big(- \\bK   \\nabla v_h  \\cdot \\bn  + \\gamma\\frac{K_F}{h_F} v_h%-   \\bbeta  \\cdot \\bn v_h\n",
    "\\Big)\n",
    "-\\int_{\\mathcal{F}_h^-}g_D\\bbeta\\cdot\\bn v_h.\n",
    "$$"
   ]
  },
  {
   "cell_type": "code",
   "execution_count": null,
   "id": "57ef0895-4638-4c4c-9c45-5669c4cc11ba",
   "metadata": {},
   "outputs": [],
   "source": [
    "def dgell(fes,K,beta=CF((0,0)),sigma=0,Dbndc=0,Dbnd=\".*\",Nbndc=0,Nbnd=\"\",rhs=0,uf=None,alpha=0):\n",
    "    mesh = fes.mesh\n",
    "    order = fes.globalorder\n",
    "\n",
    "    n = specialcf.normal(mesh.dim)\n",
    "    h = specialcf.mesh_size\n",
    "\n",
    "    alpha = 50*order**2/h if alpha==0 else alpha\n",
    "\n",
    "    u = fes.TrialFunction()\n",
    "    v = fes.TestFunction()\n",
    "    jump = lambda u: (u-u.Other())*n\n",
    "    mean_d = lambda u: 0.5 * K * (grad(u)+grad(u).Other())\n",
    "    mean_B = lambda u: 0.5 * beta * (u+u.Other())\n",
    "\n",
    "    a = BilinearForm(fes)\n",
    "    a += K*grad(u)*grad(v) * dx \\\n",
    "        +alpha*jump(u)*jump(v) * dx(skeleton=True) \\\n",
    "        +(-mean_d(u)*jump(v)-mean_d(v)*jump(u)) * dx(skeleton=True) \\\n",
    "        +alpha*u*v * ds(skeleton=True,definedon=mesh.Boundaries(Dbnd)) \\\n",
    "        +(-K*grad(u)*n*v-K*grad(v)*n*u)* ds(skeleton=True,definedon=mesh.Boundaries(Dbnd))\n",
    "    a += (-beta*u*grad(v) + sigma*u*v) * dx \\\n",
    "        + (mean_B(u) * jump(v) + 0.5*sqrt((beta*n)**2)*jump(u)*jump(v)) * dx(skeleton=True) \\\n",
    "        + beta*u*n*v * ds(skeleton=True,definedon=mesh.Boundaries(Nbnd))\n",
    "\n",
    "    f = LinearForm(fes)\n",
    "    f += Dbndc * (-K*grad(v)*n + alpha*v - beta*n*v) * ds(skeleton=True,definedon=mesh.Boundaries(Dbnd)) \\\n",
    "         - Nbndc * v * ds(skeleton=True,definedon=mesh.Boundaries(Nbnd)) \\\n",
    "         + rhs*v*dx\n",
    "    if uf:\n",
    "        f += -K*grad(uf)*grad(v) * dx \\\n",
    "            -alpha*jump(uf)*jump(v) * dx(skeleton=True) \\\n",
    "            -(-mean_d(uf)*jump(v)-mean_d(v)*jump(uf)) * dx(skeleton=True) \\\n",
    "            -alpha*uf*v * ds(skeleton=True,definedon=mesh.Boundaries(Dbnd)) \\\n",
    "            -(-K*grad(uf)*n*v-K*grad(v)*n*uf)* ds(skeleton=True,definedon=mesh.Boundaries(Dbnd))\n",
    "        f += (beta*uf*grad(v) - sigma*uf*v) * dx \\\n",
    "            - (mean_B(uf) * jump(v) + 0.5*sqrt((beta*n)**2)*jump(uf)*jump(v)) * dx(skeleton=True) \\\n",
    "            - beta*uf*n*v * ds(skeleton=True,definedon=mesh.Boundaries(Nbnd))\n",
    "\n",
    "    with TaskManager():\n",
    "        a.Assemble()\n",
    "        f.Assemble()\n",
    "\n",
    "    return a,f"
   ]
  },
  {
   "cell_type": "markdown",
   "id": "03ae6810-6716-4a63-bc52-b0be5326b54b",
   "metadata": {},
   "source": [
    "Consider the previous manufactured example and obtain the approximate solution `gfu` "
   ]
  },
  {
   "cell_type": "code",
   "execution_count": null,
   "id": "3c87a578-ac0d-4c84-99f4-1852916e8289",
   "metadata": {},
   "outputs": [],
   "source": [
    "\n",
    "a,f = dgell(fes,K,beta,sigma,Dbndc=Dbndc,rhs=rhs,uf=uf)\n",
    "gfu = GridFunction(fes)\n",
    "\n",
    "with TaskManager():\n",
    "    gfu.vec.data = a.mat.Inverse() * f.vec"
   ]
  },
  {
   "cell_type": "markdown",
   "id": "0cbc4795-cb36-4129-8d76-c96091d8c443",
   "metadata": {},
   "source": [
    "We can calculate the $L^2(\\Omega)$ error:"
   ]
  },
  {
   "cell_type": "code",
   "execution_count": null,
   "id": "ff7a8109-3657-40a5-bfe1-ed08b8efbd5d",
   "metadata": {},
   "outputs": [],
   "source": [
    "error = sqrt(Integrate((gfu-exact)**2, mesh))\n",
    "print(\"quasi-Trefftz error:\",error)"
   ]
  },
  {
   "cell_type": "markdown",
   "id": "d9818abd-c055-4859-a2c6-2691bf77faa2",
   "metadata": {},
   "source": [
    "We can plot the approximate solution like so:"
   ]
  },
  {
   "cell_type": "code",
   "execution_count": null,
   "id": "663ddaff-a1d8-4c9d-81c2-d264eca04376",
   "metadata": {},
   "outputs": [],
   "source": [
    "from ngsolve.webgui import Draw\n",
    "Draw(gfu)"
   ]
  },
  {
   "cell_type": "markdown",
   "id": "a6c8846d-a388-4844-bd73-7f5ed01d6658",
   "metadata": {},
   "source": [
    "### Advection-dominated example"
   ]
  },
  {
   "cell_type": "code",
   "execution_count": null,
   "id": "0061d855-0ae6-4e19-8e3c-045ad2513653",
   "metadata": {},
   "outputs": [],
   "source": [
    "j=3\n",
    "nu = 10**(-j)\n",
    "K = CF((nu,0,0,nu),dims=(2,2))\n",
    "beta = CF((y+1,-x+2))\n",
    "sigma = 0\n",
    "Dbndc = IfPos(IfPos(x-10**-10,0,1) + IfPos(y-10**-10,0,1)*IfPos(x-1/3,0,1) - 0.5, 1, 0)\n",
    "Nbndc = 0\n",
    "Dbnd = \"bottom|left\"\n",
    "Nbnd = \"top|right\""
   ]
  },
  {
   "cell_type": "code",
   "execution_count": null,
   "id": "83dfd9f8-69d5-4d65-8812-fc8822b77f15",
   "metadata": {},
   "outputs": [],
   "source": [
    "with TaskManager():\n",
    "    fes.SetCoeff(K,beta,sigma)\n",
    "    \n",
    "alpha = nu*100/h\n",
    "a,f = dgell(fes,K,beta,sigma,Dbndc=Dbndc,Dbnd=Dbnd,Nbnd=Nbnd,Nbndc=Nbndc,alpha=alpha)\n",
    "  \n",
    "gfu = GridFunction(fes)\n",
    "with TaskManager():\n",
    "    gfu.vec.data = a.mat.Inverse() * f.vec"
   ]
  },
  {
   "cell_type": "code",
   "execution_count": null,
   "id": "77a86c66-62d2-4a34-9205-960f88717e04",
   "metadata": {},
   "outputs": [],
   "source": [
    "from ngsolve.webgui import Draw\n",
    "Draw(gfu)"
   ]
  },
  {
   "cell_type": "markdown",
   "id": "128e02a2-5115-476c-8dbc-e83eeb8ba48d",
   "metadata": {},
   "source": [
    "To see the 3D surface click `Open Controls` and select `deformation`."
   ]
  },
  {
   "cell_type": "markdown",
   "id": "f5548554-7123-49df-89a1-65928e6a30b7",
   "metadata": {},
   "source": [
    "### Circle obstacle example"
   ]
  },
  {
   "cell_type": "code",
   "execution_count": null,
   "id": "16c76b3b-c745-4aa1-86be-b9e6b4cc8334",
   "metadata": {},
   "outputs": [],
   "source": [
    "h = 0.05\n",
    "order = 4\n",
    "from netgen.occ import *\n",
    "from ngsolve.webgui import Draw \n",
    "wp = WorkPlane().RectangleC(2,2) \\\n",
    "    .Circle(0,0,0.25).Reverse() \n",
    "geometry = wp.Face()\n",
    "mesh = Mesh(OCCGeometry(geometry,dim=2).GenerateMesh(maxh=h))\n",
    "mesh.Curve(order)\n",
    "mesh.ngmesh.SetBCName(0,\"top\")\n",
    "mesh.ngmesh.SetBCName(1,\"bottom\")\n",
    "mesh.ngmesh.SetBCName(2,\"left\")\n",
    "mesh.ngmesh.SetBCName(3,\"right\")\n",
    "mesh.ngmesh.SetBCName(4,\"innercircle\")"
   ]
  },
  {
   "cell_type": "code",
   "execution_count": null,
   "id": "aed18fb0-8d32-430c-8e60-2b8b233a2228",
   "metadata": {
    "scrolled": true
   },
   "outputs": [],
   "source": [
    "j = 3\n",
    "nu = 10**(-j)\n",
    "K = CF((nu,0,0,nu),dims=(2,2))\n",
    "beta = CF((1+1/16*(y**2-x**2)/((x**2+y**2)**2),-1/8*x*y/((x**2+y**2)**2)))\n",
    "sigma = 0\n",
    "Dbndc = IfPos(x+1/2,1,0)\n",
    "Nbndc = 0\n",
    "Dbnd=\"right|innercircle\"\n",
    "Nbnd=\"left|top|bottom\"\n",
    "  \n",
    "with TaskManager():\n",
    "    fes = trefftzfespace(mesh,order=order,eq=\"qtelliptic\")\n",
    "    fes.SetCoeff(K,beta,sigma)\n",
    "    \n",
    "alpha = nu*50*order/h\n",
    "a,f = dgell(fes,K,beta,sigma,Dbndc=Dbndc,Dbnd=Dbnd,Nbnd=Nbnd,Nbndc=Nbndc,alpha=alpha)  \n",
    "gfu = GridFunction(fes)\n",
    "with TaskManager():\n",
    "    gfu.vec.data = a.mat.Inverse() * f.vec\n",
    "\n",
    "Draw(gfu,mesh,\"gfu\")"
   ]
  },
  {
   "cell_type": "markdown",
   "id": "ebf21741-f21e-441d-9be7-432a32415cb3",
   "metadata": {},
   "source": [
    "### L-shaped domain example"
   ]
  },
  {
   "cell_type": "code",
   "execution_count": null,
   "id": "31807cbc-c6c5-44a0-a809-490bb419de58",
   "metadata": {},
   "outputs": [],
   "source": [
    "import netgen.geom2d as geom2d;\n",
    "geo = geom2d.SplineGeometry()\n",
    "p1 = geo.AppendPoint (1,1)\n",
    "p2 = geo.AppendPoint (0,1)\n",
    "p3 = geo.AppendPoint (0,0.5)\n",
    "p4 = geo.AppendPoint (0.5,0.5)\n",
    "p5 = geo.AppendPoint (0.5,0)\n",
    "p6 = geo.AppendPoint (1,0)\n",
    "\n",
    "geo.Append ([\"line\", p1, p2], bc=1)\n",
    "geo.Append ([\"line\", p2, p3], bc=1)\n",
    "geo.Append ([\"line\", p3, p4], bc=1)\n",
    "geo.Append ([\"line\", p4, p5], bc=1)\n",
    "geo.Append ([\"line\", p5, p6], bc=1)\n",
    "geo.Append ([\"line\", p6, p1], bc=1)\n",
    "\n",
    "h = 0.05;\n",
    "mesh = Mesh( geo.GenerateMesh(maxh=h))"
   ]
  },
  {
   "cell_type": "code",
   "execution_count": null,
   "id": "8de5679e-376f-495c-a7a0-f6b8d4184ee1",
   "metadata": {},
   "outputs": [],
   "source": [
    "j = 3\n",
    "nu = 5*10**(-j)\n",
    "K = CF((nu,0,0,nu),dims=(2,2))\n",
    "beta = CF((-y,x))\n",
    "sigma = 0\n",
    "Dbndc = IfPos(y,0,1)\n",
    "\n",
    "order = 4  \n",
    "with TaskManager():\n",
    "    fes = trefftzfespace(mesh,order=order,eq=\"qtelliptic\")\n",
    "    fes.SetCoeff(K,beta,sigma)\n",
    "alpha = nu*50*order/h\n",
    "a,f = dgell(fes,K,beta,sigma,Dbndc=Dbndc,alpha=alpha)\n",
    "gfu = GridFunction(fes)\n",
    "with TaskManager():\n",
    "    gfu.vec.data = a.mat.Inverse() * f.vec\n",
    "\n",
    "Draw(gfu,mesh,\"gfu\")"
   ]
  }
 ],
 "metadata": {
  "kernelspec": {
   "display_name": "Python 3 (ipykernel)",
   "language": "python",
   "name": "python3"
  },
  "language_info": {
   "codemirror_mode": {
    "name": "ipython",
    "version": 3
   },
   "file_extension": ".py",
   "mimetype": "text/x-python",
   "name": "python",
   "nbconvert_exporter": "python",
   "pygments_lexer": "ipython3",
   "version": "3.12.3"
  }
 },
 "nbformat": 4,
 "nbformat_minor": 5
}
