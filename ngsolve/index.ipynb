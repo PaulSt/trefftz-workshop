{
 "cells": [
  {
   "cell_type": "markdown",
   "id": "3dcd70e8",
   "metadata": {},
   "source": [
    "# NGSolve Notebooks\n",
    "Many many more at https://docu.ngsolve.org/latest/"
   ]
  },
  {
   "cell_type": "markdown",
   "id": "3f5c8efb",
   "metadata": {},
   "source": [
    "1. [Notebook](01_poisson.ipynb) solving a simple Poisson problem using NGSolve.\n",
    "2. [Notebook](02_coefficientfunction.ipynb) introduction to Coefficientfunctions.\n",
    "3. [Notebook](03_dirichlet.ipynb) implementing non-zero Dirichlet boundary conditions.\n",
    "4. [Notebook](04_helmholtz.ipynb) solving Helmholtz equation.\n",
    "5. [Notebook](05_DG.ipynb) implementing discontinuous Galerkin methods.\n",
    "6. [Notebook](06_planewavecoupling.ipynb) coupling to plane waves.\n"
   ]
  }
 ],
 "metadata": {
  "kernelspec": {
   "display_name": "Python 3 (ipykernel)",
   "language": "python",
   "name": "python3"
  },
  "language_info": {
   "codemirror_mode": {
    "name": "ipython",
    "version": 3
   },
   "file_extension": ".py",
   "mimetype": "text/x-python",
   "name": "python",
   "nbconvert_exporter": "python",
   "pygments_lexer": "ipython3",
   "version": "3.12.3"
  }
 },
 "nbformat": 4,
 "nbformat_minor": 5
}
